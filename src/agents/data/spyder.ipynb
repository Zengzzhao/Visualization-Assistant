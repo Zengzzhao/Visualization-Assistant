{
 "cells": [
  {
   "cell_type": "code",
   "execution_count": 3,
   "metadata": {},
   "outputs": [],
   "source": [
    "import pandas as pd\n",
    "\n",
    "# 读取CSV文件\n",
    "df = pd.read_csv('vega-lite_examples.csv', encoding='iso-8859-1')\n",
    "# 确定原始表格的行数H\n",
    "H = len(df)\n",
    "\n",
    "# 确定原始表格的列数N（每两列为一组）\n",
    "N = len(df.columns)\n",
    "\n",
    "# 初始化一个新的DataFrame来存储转换后的数据\n",
    "new_df = pd.DataFrame()\n",
    "\n",
    "# 遍历每一组两列\n",
    "for i in range(0, N, 2):\n",
    "    # 选取每两列\n",
    "    temp_df = df.iloc[:, i:i+2]\n",
    "    # 将选取的两列数据转置并添加到新的DataFrame中\n",
    "    new_df = pd.concat([new_df, temp_df.transpose()], ignore_index=True)\n",
    "\n",
    "# 保存到新的CSV文件\n",
    "new_df.to_csv('transformed_vega-lite_examples.csv', index=False)"
   ]
  },
  {
   "cell_type": "code",
   "execution_count": 5,
   "metadata": {},
   "outputs": [
    {
     "name": "stdout",
     "output_type": "stream",
     "text": [
      "转换完成。结果已保存到 transformed_vega-lite_examples.csv\n"
     ]
    }
   ],
   "source": [
    "import pandas as pd\n",
    "\n",
    "# 读取CSV文件\n",
    "input_file = 'vega-lite_examples.csv'\n",
    "df = pd.read_csv(input_file, header=None, encoding='iso-8859-1')\n",
    "\n",
    "# 获取原始数据的维度\n",
    "H, num_columns = df.shape\n",
    "N = num_columns // 2\n",
    "\n",
    "# 初始化一个新的DataFrame\n",
    "expanded_df = pd.DataFrame(columns=['name', 'url'])\n",
    "\n",
    "# 处理数据\n",
    "for i in range(N):\n",
    "    col1 = df.iloc[:, 2*i]\n",
    "    col2 = df.iloc[:, 2*i + 1]\n",
    "    \n",
    "    # 创建临时DataFrame\n",
    "    temp_df = pd.DataFrame({\n",
    "        'name': col1,\n",
    "        'url': col2\n",
    "    })\n",
    "    \n",
    "    # 过滤掉任何字段为空的行\n",
    "    temp_df = temp_df.dropna(subset=['name', 'url'])\n",
    "    \n",
    "    # 追加到最终DataFrame\n",
    "    expanded_df = pd.concat([expanded_df, temp_df], ignore_index=True)\n",
    "\n",
    "# 将结果保存为新的CSV文件\n",
    "output_file = 'transformed_vega-lite_examples.csv'\n",
    "expanded_df.to_csv(output_file, index=False)\n",
    "\n",
    "print(f\"转换完成。结果已保存到 {output_file}\")"
   ]
  },
  {
   "cell_type": "code",
   "execution_count": 1,
   "metadata": {},
   "outputs": [
    {
     "name": "stdout",
     "output_type": "stream",
     "text": [
      "已有188条，待爬1条\n"
     ]
    },
    {
     "name": "stderr",
     "output_type": "stream",
     "text": [
      "1it [00:03,  3.98s/it]"
     ]
    },
    {
     "name": "stdout",
     "output_type": "stream",
     "text": [
      "name:Connected Scatterplot (Lines with Custom Paths)\n",
      "\n",
      "description:A connected scatterplot can be created by customizing line order and adding point overlay in the line mark definition.\n",
      "\n",
      "code:{\n",
      "  \"$schema\": \"https://vega.github.io/schema/vega-lite/v5.json\",\n",
      "  \"data\": {\"url\": \"data/driving.json\"},\n",
      "  \"mark\": {\"type\": \"line\", \"point\": true},\n",
      "  \"encoding\": {\n",
      "    \"x\": {\n",
      "      \"field\": \"miles\", \"type\": \"quantitative\",\n",
      "      \"scale\": {\"zero\": false}\n",
      "    },\n",
      "    \"y\": {\n",
      "      \"field\": \"gas\", \"type\": \"quantitative\",\n",
      "      \"scale\": {\"zero\": false}\n",
      "    },\n",
      "    \"order\": {\"field\": \"year\"}\n",
      "  }\n",
      "}\n",
      "\n",
      "\n",
      "\n"
     ]
    },
    {
     "name": "stderr",
     "output_type": "stream",
     "text": [
      "\n"
     ]
    }
   ],
   "source": [
    "import pandas as pd\n",
    "import requests\n",
    "import re\n",
    "import json\n",
    "from tqdm import tqdm\n",
    "import os\n",
    "\n",
    "# 读取CSV文件\n",
    "input_file = 'transformed_vega-lite_examples.csv'  # 替换为你的CSV文件路径\n",
    "output_file = 'examples.json'\n",
    "df = pd.read_csv(input_file)\n",
    "\n",
    "# 准备存储结果的列表\n",
    "\n",
    "# 正则表达式用于提取meta描述\n",
    "description_pattern = re.compile(r'<meta\\s+name=\"description\"\\s+content=\"([^\"]*)\"\\s*/>', re.IGNORECASE)\n",
    "\n",
    "# 正则表达式用于提取<code>内容\n",
    "code_pattern = re.compile(r'<pre\\s+class=\"example-spec\"><code\\s+class=\"language-json\">([^<]*)</code></pre>', re.IGNORECASE | re.DOTALL)\n",
    "\n",
    "def load_existing_data(file_path):\n",
    "    if not os.path.exists(file_path):\n",
    "        return []\n",
    "    with open(file_path, 'r') as file:\n",
    "        data = json.load(file)\n",
    "    return list(data)\n",
    "\n",
    "results = load_existing_data(output_file)\n",
    "\n",
    "df_filtered = df[~df['name'].isin([item['name'] for item in results])]\n",
    "print(f\"已有{len(results)}条，待爬{len(df_filtered)}条\")\n",
    "# 遍历CSV文件的每一行\n",
    "for _, row in tqdm(df_filtered.iterrows()):\n",
    "    name = row['name']\n",
    "    url = row['url']\n",
    "\n",
    "    try:\n",
    "        # 发起GET请求获取HTML内容\n",
    "        response = requests.get(url, timeout=60)\n",
    "        response.raise_for_status()  # 确保请求成功\n",
    "        \n",
    "        html_content = response.text\n",
    "\n",
    "        # 提取description\n",
    "        description_match = description_pattern.search(html_content)\n",
    "        description = description_match.group(1) if description_match else \"\"\n",
    "\n",
    "        # 提取code\n",
    "        code_match = code_pattern.search(html_content)\n",
    "        code = code_match.group(1).strip() if code_match else \"\"\n",
    "\n",
    "        # 将提取的数据添加到结果列表\n",
    "        results.append({\n",
    "            'name': name,\n",
    "            'description': description,\n",
    "            'code': code\n",
    "        })\n",
    "        print(f\"name:{name}\\n\\ndescription:{description}\\n\\ncode:{code}\\n\\n\\n\")\n",
    "        \n",
    "        with open(output_file, 'w') as f:\n",
    "            json.dump(results, f, indent=4)\n",
    "\n",
    "    except Exception as e:\n",
    "        print(f\"Error processing URL {url}: {e}\")\n"
   ]
  },
  {
   "cell_type": "code",
   "execution_count": null,
   "metadata": {},
   "outputs": [],
   "source": []
  }
 ],
 "metadata": {
  "kernelspec": {
   "display_name": "Python 3",
   "language": "python",
   "name": "python3"
  },
  "language_info": {
   "codemirror_mode": {
    "name": "ipython",
    "version": 3
   },
   "file_extension": ".py",
   "mimetype": "text/x-python",
   "name": "python",
   "nbconvert_exporter": "python",
   "pygments_lexer": "ipython3",
   "version": "undefined.undefined.undefined"
  }
 },
 "nbformat": 4,
 "nbformat_minor": 2
}
